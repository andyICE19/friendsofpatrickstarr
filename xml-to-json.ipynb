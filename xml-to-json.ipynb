{
 "metadata": {
  "language_info": {
   "codemirror_mode": {
    "name": "ipython",
    "version": 3
   },
   "file_extension": ".py",
   "mimetype": "text/x-python",
   "name": "python",
   "nbconvert_exporter": "python",
   "pygments_lexer": "ipython3",
   "version": "3.7.6-final"
  },
  "orig_nbformat": 2,
  "kernelspec": {
   "name": "python3",
   "display_name": "Python 3",
   "language": "python"
  }
 },
 "nbformat": 4,
 "nbformat_minor": 2,
 "cells": [
  {
   "source": [
    "# Point of this is to convert .xml files into entry point into CDE modeller."
   ],
   "cell_type": "markdown",
   "metadata": {}
  },
  {
   "source": [
    "## Directories"
   ],
   "cell_type": "markdown",
   "metadata": {}
  },
  {
   "cell_type": "code",
   "execution_count": 1,
   "metadata": {},
   "outputs": [],
   "source": [
    "database_path = 'Hackathon_Data/cde_database/full_database/'"
   ]
  },
  {
   "source": [
    "## Import libraries"
   ],
   "cell_type": "markdown",
   "metadata": {}
  },
  {
   "cell_type": "code",
   "execution_count": 2,
   "metadata": {},
   "outputs": [],
   "source": [
    "from xml_to_json import load_xml, keyparse, create_dictionary, clean_dictionary\n",
    "from os import listdir\n",
    "import json\n"
   ]
  },
  {
   "source": [
    "## Preparing Inputs"
   ],
   "cell_type": "markdown",
   "metadata": {}
  },
  {
   "cell_type": "code",
   "execution_count": 3,
   "metadata": {},
   "outputs": [],
   "source": [
    "#\n",
    "correct_keys = {'LONGNAME':'long_name',\n",
    "                'PREFERREDNAME':'preferred_name',\n",
    "                'PREFERREDDEFINITION':'preferred_definition',\n",
    "                'DATAELEMENTCONCEPT':'concept',\n",
    "                'VALUEDOMAIN':'value',\n",
    "                'PublicId':'public_id',\n",
    "                'PreferredDefinition':'preferred_definition',\n",
    "                'LongName':'long_name',\n",
    "                'Datatype' : 'data_type',\n",
    "                'UnitOfMeasure': 'unit_of_measure',\n",
    "                'MaximumValue':'maximum_value',\n",
    "                'MinimumValue':'minimum_value',\n",
    "                'PermissibleValues':'permissible_values',\n",
    "                'VALIDVALUE':'valid_value',\n",
    "                'VMPUBLICID' : 'public_id'\n",
    "                }\n",
    "list_of_keys_main = ['LONGNAME','PREFERREDNAME','PREFERREDDEFINITION']\n",
    "list_of_keys_concept = ['PublicId','PreferredDefinition']\n",
    "list_of_keys_value = ['PublicId','PreferredDefinition','LongName','Datatype','UnitOfMeasure','MaximumValue','MinimumValue','PermissibleValues']\n",
    "list_of_keys_permissible_values = ['VALIDVALUE','VMPUBLICID']"
   ]
  },
  {
   "source": [
    "## Generate entry point json\n",
    "\n",
    "### One file"
   ],
   "cell_type": "markdown",
   "metadata": {}
  },
  {
   "cell_type": "code",
   "execution_count": 3,
   "metadata": {},
   "outputs": [
    {
     "output_type": "error",
     "ename": "NameError",
     "evalue": "name 'list_of_keys_main' is not defined",
     "traceback": [
      "\u001b[1;31m---------------------------------------------------------------------------\u001b[0m",
      "\u001b[1;31mNameError\u001b[0m                                 Traceback (most recent call last)",
      "\u001b[1;32m<ipython-input-3-2373d573383a>\u001b[0m in \u001b[0;36m<module>\u001b[1;34m\u001b[0m\n\u001b[0;32m      1\u001b[0m \u001b[0mfile_name\u001b[0m \u001b[1;33m=\u001b[0m \u001b[1;34m'xml_cde_2020102112645_1.xml'\u001b[0m\u001b[1;33m\u001b[0m\u001b[1;33m\u001b[0m\u001b[0m\n\u001b[0;32m      2\u001b[0m \u001b[0mdata_element_list\u001b[0m \u001b[1;33m=\u001b[0m \u001b[0mload_xml\u001b[0m\u001b[1;33m(\u001b[0m\u001b[0mdatabase_path\u001b[0m\u001b[1;33m,\u001b[0m\u001b[0mfile_name\u001b[0m\u001b[1;33m)\u001b[0m\u001b[1;33m\u001b[0m\u001b[1;33m\u001b[0m\u001b[0m\n\u001b[1;32m----> 3\u001b[1;33m \u001b[0mnew_dict\u001b[0m \u001b[1;33m=\u001b[0m \u001b[0mclean_dictionary\u001b[0m\u001b[1;33m(\u001b[0m\u001b[0mdata_element_list\u001b[0m\u001b[1;33m,\u001b[0m \u001b[0mlist_of_keys_main\u001b[0m\u001b[1;33m,\u001b[0m \u001b[0mlist_of_keys_concept\u001b[0m\u001b[1;33m,\u001b[0m \u001b[0mlist_of_keys_value\u001b[0m\u001b[1;33m,\u001b[0m \u001b[0mlist_of_keys_permissible_values\u001b[0m\u001b[1;33m,\u001b[0m\u001b[0mcorrect_keys\u001b[0m\u001b[1;33m)\u001b[0m\u001b[1;33m\u001b[0m\u001b[1;33m\u001b[0m\u001b[0m\n\u001b[0m\u001b[0;32m      4\u001b[0m \u001b[1;33m\u001b[0m\u001b[0m\n\u001b[0;32m      5\u001b[0m \u001b[1;32mwith\u001b[0m \u001b[0mopen\u001b[0m\u001b[1;33m(\u001b[0m\u001b[1;34m'Hackathon_Data/cde_database/'\u001b[0m\u001b[1;33m+\u001b[0m\u001b[0mfile_name\u001b[0m\u001b[1;33m+\u001b[0m\u001b[1;34m\".json\"\u001b[0m\u001b[1;33m,\u001b[0m \u001b[1;34m\"w\"\u001b[0m\u001b[1;33m)\u001b[0m \u001b[1;32mas\u001b[0m \u001b[0moutfile\u001b[0m\u001b[1;33m:\u001b[0m\u001b[1;33m\u001b[0m\u001b[1;33m\u001b[0m\u001b[0m\n",
      "\u001b[1;31mNameError\u001b[0m: name 'list_of_keys_main' is not defined"
     ]
    }
   ],
   "source": [
    "file_name = 'xml_cde_2020102112645_1.xml'\n",
    "data_element_list = load_xml(database_path,file_name)\n",
    "new_dict = clean_dictionary(data_element_list, list_of_keys_main, list_of_keys_concept, list_of_keys_value, list_of_keys_permissible_values,correct_keys)\n",
    "\n",
    "with open('Hackathon_Data/cde_database/'+file_name+\".json\", \"w\") as outfile:  \n",
    "    json.dump(new_dict, outfile) "
   ]
  },
  {
   "cell_type": "code",
   "execution_count": 4,
   "metadata": {},
   "outputs": [],
   "source": [
    "#Testing two files\n",
    "\n",
    "file_name = 'xml_cde_2020102112645_1.xml'\n",
    "data_element_list = load_xml(database_path,file_name)\n",
    "new_dict = clean_dictionary(data_element_list, list_of_keys_main, list_of_keys_concept, list_of_keys_value, list_of_keys_permissible_values,correct_keys)\n",
    "\n",
    "file_name_2 = 'xml_cde_2020102112645_10.xml'\n",
    "data_element_list_2 = load_xml(database_path,file_name_2)\n",
    "new_dict_2 = clean_dictionary(data_element_list_2, list_of_keys_main, list_of_keys_concept, list_of_keys_value, list_of_keys_permissible_values,correct_keys)\n",
    "\n",
    "new_dict_full = {**new_dict,**new_dict_2}\n",
    "with open('Hackathon_Data/cde_database/'+'1-and-10'+\".json\", \"w\") as outfile:  \n",
    "    json.dump(new_dict_full, outfile) "
   ]
  },
  {
   "source": [
    "### All files in directory"
   ],
   "cell_type": "markdown",
   "metadata": {}
  },
  {
   "source": [
    "new_dict_full = {}\n",
    "for file_name in listdir(database_path):\n",
    "    data_element_list = load_xml(database_path,file_name)\n",
    "    new_dict = clean_dictionary(data_element_list, list_of_keys_main, list_of_keys_concept, list_of_keys_value, list_of_keys_permissible_values,correct_keys)\n",
    "    new_dict_full = {**new_dict_full,**new_dict}\n",
    "\n",
    "with open('Hackathon_Data/cde_database/'+'cde_database_full.json', \"w\") as outfile:  \n",
    "    json.dump(new_dict_full, outfile) \n",
    "    "
   ],
   "cell_type": "code",
   "metadata": {},
   "execution_count": 5,
   "outputs": []
  }
 ]
}