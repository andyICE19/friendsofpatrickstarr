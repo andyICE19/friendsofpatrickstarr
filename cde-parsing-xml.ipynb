{
 "metadata": {
  "language_info": {
   "codemirror_mode": {
    "name": "ipython",
    "version": 3
   },
   "file_extension": ".py",
   "mimetype": "text/x-python",
   "name": "python",
   "nbconvert_exporter": "python",
   "pygments_lexer": "ipython3",
   "version": "3.7.6-final"
  },
  "orig_nbformat": 2,
  "kernelspec": {
   "name": "python3",
   "display_name": "Python 3",
   "language": "python"
  }
 },
 "nbformat": 4,
 "nbformat_minor": 2,
 "cells": [
  {
   "source": [
    "Point of this is to convert .xml files into json files for entry point into CDE modeller."
   ],
   "cell_type": "markdown",
   "metadata": {}
  },
  {
   "source": [
    "Directories"
   ],
   "cell_type": "markdown",
   "metadata": {}
  },
  {
   "cell_type": "code",
   "execution_count": 2,
   "metadata": {},
   "outputs": [],
   "source": [
    "database_path = 'Hackathon_Data/cde_database/full_database/'"
   ]
  },
  {
   "source": [
    "Import libraries"
   ],
   "cell_type": "markdown",
   "metadata": {}
  },
  {
   "cell_type": "code",
   "execution_count": 2,
   "metadata": {},
   "outputs": [],
   "source": [
    "import xml.etree.ElementTree as ET\n",
    "import os\n",
    "#from bs4 import BeautifulSoup\n",
    "#import json"
   ]
  },
  {
   "cell_type": "code",
   "execution_count": 5,
   "metadata": {},
   "outputs": [],
   "source": [
    "\n",
    "\n",
    "for filename in os.listdir(database_path):\n",
    "    if not filename.endswith('.xml'):\n",
    "        continue\n",
    "    fullname = os.path.join(database_path, filename)\n",
    "    tree = ET.parse(fullname)\n",
    "    #tree = BeautifulSoup(open(fullname),'xml')\n"
   ]
  },
  {
   "cell_type": "code",
   "execution_count": 3,
   "metadata": {},
   "outputs": [],
   "source": [
    "tree = ET.parse('Hackathon_Data/cde_database/full_database/xml_cde_2020102112645_10.xml')\n",
    "\n",
    "root = tree.getroot()\n",
    "\n",
    "# Get all public_ids\n",
    "cde_public_ids = []\n",
    "for public_id in root.iter('PUBLICID'):\n",
    "    cde_public_ids.append(public_id.text)"
   ]
  },
  {
   "cell_type": "code",
   "execution_count": 5,
   "metadata": {},
   "outputs": [],
   "source": [
    "import json\n",
    "import xmltodict\n",
    "with open(\"Hackathon_Data/cde_database/full_database/xml_cde_2020102112645_10.xml\") as xml_file:\n",
    "    data_dict = xmltodict.parse(xml_file.read())\n",
    "\n",
    "json_data = json.loads(data_dict)"
   ]
  },
  {
   "cell_type": "code",
   "execution_count": 10,
   "metadata": {},
   "outputs": [],
   "source": [
    "data_element_list = json.loads(json_data)['DataElementsList']['DataElement']"
   ]
  },
  {
   "cell_type": "code",
   "execution_count": 98,
   "metadata": {},
   "outputs": [],
   "source": [
    "correct_keys = {'LONGNAME':'long_name',\n",
    "                'PREFERREDNAME':'preferred_name',\n",
    "                'PREFERREDDEFINITION':'preferred_definition',\n",
    "                'DATAELEMENTCONCEPT':'concept',\n",
    "                'PublicId':'public_id',\n",
    "                'PreferredDefinition':'preferred_definition',\n",
    "                'LongName':'long_name',\n",
    "                'Datatype' : 'data_type',\n",
    "                'UnitOfMeasure': 'unit_of_measure',\n",
    "                'MaximumValue':'maximum_value',\n",
    "                'MinimumValue':'minimum_value',\n",
    "                'PermissibleValues':'permissible_values',\n",
    "                'VALIDVALUE':'valid_value',\n",
    "                'VMPUBLICID' : 'public_id'\n",
    "                }\n",
    "\n",
    "def keyparse(key_string):\n",
    "    return correct_keys[key_string]"
   ]
  },
  {
   "cell_type": "code",
   "execution_count": 93,
   "metadata": {
    "tags": []
   },
   "outputs": [
    {
     "output_type": "stream",
     "name": "stdout",
     "text": [
      "dict_keys(['PublicId', 'PreferredDefinition', 'LongName', 'Datatype', 'UnitOfMeasure', 'MaximumValue', 'MinimumValue', 'PermissibleValues'])\n"
     ]
    }
   ],
   "source": [
    "new_dict = {}\n",
    "concept_dict = {}\n",
    "\n",
    "list_of_keys_main = ['LONGNAME','PREFERREDNAME','PREFERREDDEFINITION']\n",
    "list_of_keys_concept = ['PublicId','PreferredDefinition']\n",
    "list_of_keys_value = ['PublicId','PreferredDefinition','LongName','Datatype','UnitOfMeasure','MaximumValue','MinimumValue','PermissibleValues']\n",
    "list_of_keys_permissible_values = ['VALIDVALUE','VMPUBLICID']\n",
    "for data_element in data_element_list:\n",
    "    for (key, value) in data_element.items():\n",
    "        if key == 'PUBLICID':\n",
    "            new_key = value\n",
    "        else: \n",
    "            if key in list_of_keys_main:\n",
    "                new_dict[new_key] = {}\n",
    "                new_dict[new_key][key] = value # to create dict of all elements\n",
    "            elif key == 'DATAELEMENTCONCEPT':\n",
    "                concept_dict = {key_concept: data_element[key][key_concept] for key_concept in list_of_keys_concept}\n",
    "                new_dict[new_key][key] = concept_dict\n",
    "            elif key == 'VALUEDOMAIN':\n",
    "                value_dict = {}\n",
    "                value_dict = {key_value: data_element[key][key_value] for key_value in list_of_keys_value}\n",
    "\n",
    "                if value_dict['PermissibleValues'] != None:\n",
    "                    perm_value_list = value_dict['PermissibleValues']['PermissibleValues_ITEM']\n",
    "                    permissible_values = []\n",
    "\n",
    "                    if type(perm_value_list) == list:\n",
    "                        for value in perm_value_list:\n",
    "                            permissible_value = {}\n",
    "                            permissible_value = {key_perm_value: value[key_perm_value] for key_perm_value in list_of_keys_permissible_values}\n",
    "                            permissible_values.append(permissible_value)\n",
    "                    else:\n",
    "                        permissible_value = {}\n",
    "                        permissible_value = {key_perm_value: perm_value_list[key_perm_value] for key_perm_value in list_of_keys_permissible_values}\n",
    "                        permissible_values.append(permissible_value)                                   \n",
    "                        \n",
    "                    value_dict['PermissibleValues'] = permissible_values\n",
    "\n",
    "                new_dict[new_key][key] = value_dict               \n",
    "                \n",
    "print(new_dict['3679498']['VALUEDOMAIN'].keys())"
   ]
  }
 ]
}