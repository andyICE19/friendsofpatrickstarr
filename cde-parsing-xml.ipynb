{
 "metadata": {
  "language_info": {
   "codemirror_mode": {
    "name": "ipython",
    "version": 3
   },
   "file_extension": ".py",
   "mimetype": "text/x-python",
   "name": "python",
   "nbconvert_exporter": "python",
   "pygments_lexer": "ipython3",
   "version": "3.7.6-final"
  },
  "orig_nbformat": 2,
  "kernelspec": {
   "name": "python3",
   "display_name": "Python 3",
   "language": "python"
  }
 },
 "nbformat": 4,
 "nbformat_minor": 2,
 "cells": [
  {
   "source": [
    "Point of this is to convert .xml files into json files for entry point into CDE modeller."
   ],
   "cell_type": "markdown",
   "metadata": {}
  },
  {
   "source": [
    "Directories"
   ],
   "cell_type": "markdown",
   "metadata": {}
  },
  {
   "cell_type": "code",
   "execution_count": 4,
   "metadata": {},
   "outputs": [],
   "source": [
    "database_path = 'Hackathon_Data/cde_database/full_database/'"
   ]
  },
  {
   "source": [
    "Import libraries"
   ],
   "cell_type": "markdown",
   "metadata": {}
  },
  {
   "cell_type": "code",
   "execution_count": 8,
   "metadata": {},
   "outputs": [
    {
     "output_type": "error",
     "ename": "ModuleNotFoundError",
     "evalue": "No module named 'bs4'",
     "traceback": [
      "\u001b[1;31m---------------------------------------------------------------------------\u001b[0m",
      "\u001b[1;31mModuleNotFoundError\u001b[0m                       Traceback (most recent call last)",
      "\u001b[1;32m<ipython-input-8-356e9d789168>\u001b[0m in \u001b[0;36m<module>\u001b[1;34m\u001b[0m\n\u001b[0;32m      1\u001b[0m \u001b[1;32mimport\u001b[0m \u001b[0mxml\u001b[0m\u001b[1;33m.\u001b[0m\u001b[0metree\u001b[0m\u001b[1;33m.\u001b[0m\u001b[0mElementTree\u001b[0m \u001b[1;32mas\u001b[0m \u001b[0mET\u001b[0m\u001b[1;33m\u001b[0m\u001b[1;33m\u001b[0m\u001b[0m\n\u001b[0;32m      2\u001b[0m \u001b[1;32mimport\u001b[0m \u001b[0mos\u001b[0m\u001b[1;33m\u001b[0m\u001b[1;33m\u001b[0m\u001b[0m\n\u001b[1;32m----> 3\u001b[1;33m \u001b[1;32mfrom\u001b[0m \u001b[0mbs4\u001b[0m \u001b[1;32mimport\u001b[0m \u001b[0mBeautifulSoup\u001b[0m\u001b[1;33m\u001b[0m\u001b[1;33m\u001b[0m\u001b[0m\n\u001b[0m\u001b[0;32m      4\u001b[0m \u001b[1;32mimport\u001b[0m \u001b[0mjson\u001b[0m\u001b[1;33m\u001b[0m\u001b[1;33m\u001b[0m\u001b[0m\n",
      "\u001b[1;31mModuleNotFoundError\u001b[0m: No module named 'bs4'"
     ]
    }
   ],
   "source": [
    "import xml.etree.ElementTree as ET\n",
    "import os\n",
    "from bs4 import BeautifulSoup\n",
    "import json"
   ]
  },
  {
   "cell_type": "code",
   "execution_count": 5,
   "metadata": {},
   "outputs": [],
   "source": [
    "\n",
    "\n",
    "for filename in os.listdir(database_path):\n",
    "    if not filename.endswith('.xml'):\n",
    "        continue\n",
    "    fullname = os.path.join(database_path, filename)\n",
    "    #tree = ET.parse(fullname)\n",
    "    tree = BeautifulSoup(open(fullname),'xml')\n"
   ]
  },
  {
   "cell_type": "code",
   "execution_count": 11,
   "metadata": {},
   "outputs": [
    {
     "output_type": "stream",
     "name": "stderr",
     "text": [
      "Traceback (most recent call last):\n",
      "  File \"C:\\Users\\sher.lynn.wong\\AppData\\Local\\Programs\\Python\\Python37\\lib\\runpy.py\", line 193, in _run_module_as_main\n",
      "    \"__main__\", mod_spec)\n",
      "  File \"C:\\Users\\sher.lynn.wong\\AppData\\Local\\Programs\\Python\\Python37\\lib\\runpy.py\", line 85, in _run_code\n",
      "    exec(code, run_globals)\n",
      "  File \"C:\\Users\\sher.lynn.wong\\OneDrive - Accenture\\Documents\\HoHo Hackathon\\friendsofpatrickstarr\\env\\Scripts\\pip.exe\\__main__.py\", line 5, in <module>\n",
      "  File \"c:\\users\\sher.lynn.wong\\onedrive - accenture\\documents\\hoho hackathon\\friendsofpatrickstarr\\env\\lib\\site-packages\\pip\\_internal\\cli\\main.py\", line 10, in <module>\n",
      "    from pip._internal.cli.autocompletion import autocomplete\n",
      "  File \"c:\\users\\sher.lynn.wong\\onedrive - accenture\\documents\\hoho hackathon\\friendsofpatrickstarr\\env\\lib\\site-packages\\pip\\_internal\\cli\\autocompletion.py\", line 9, in <module>\n",
      "    from pip._internal.cli.main_parser import create_main_parser\n",
      "  File \"c:\\users\\sher.lynn.wong\\onedrive - accenture\\documents\\hoho hackathon\\friendsofpatrickstarr\\env\\lib\\site-packages\\pip\\_internal\\cli\\main_parser.py\", line 7, in <module>\n",
      "    from pip._internal.cli import cmdoptions\n",
      "  File \"c:\\users\\sher.lynn.wong\\onedrive - accenture\\documents\\hoho hackathon\\friendsofpatrickstarr\\env\\lib\\site-packages\\pip\\_internal\\cli\\cmdoptions.py\", line 25, in <module>\n",
      "    from pip._internal.cli.progress_bars import BAR_TYPES\n",
      "  File \"c:\\users\\sher.lynn.wong\\onedrive - accenture\\documents\\hoho hackathon\\friendsofpatrickstarr\\env\\lib\\site-packages\\pip\\_internal\\cli\\progress_bars.py\", line 12, in <module>\n",
      "    from pip._internal.utils.logging import get_indentation\n",
      "  File \"c:\\users\\sher.lynn.wong\\onedrive - accenture\\documents\\hoho hackathon\\friendsofpatrickstarr\\env\\lib\\site-packages\\pip\\_internal\\utils\\logging.py\", line 18, in <module>\n",
      "    from pip._internal.utils.misc import ensure_dir\n",
      "  File \"c:\\users\\sher.lynn.wong\\onedrive - accenture\\documents\\hoho hackathon\\friendsofpatrickstarr\\env\\lib\\site-packages\\pip\\_internal\\utils\\misc.py\", line 21, in <module>\n",
      "    from pip._vendor import pkg_resources\n",
      "  File \"c:\\users\\sher.lynn.wong\\onedrive - accenture\\documents\\hoho hackathon\\friendsofpatrickstarr\\env\\lib\\site-packages\\pip\\_vendor\\pkg_resources\\__init__.py\", line 3251, in <module>\n",
      "    @_call_aside\n",
      "  File \"c:\\users\\sher.lynn.wong\\onedrive - accenture\\documents\\hoho hackathon\\friendsofpatrickstarr\\env\\lib\\site-packages\\pip\\_vendor\\pkg_resources\\__init__.py\", line 3235, in _call_aside\n",
      "    f(*args, **kwargs)\n",
      "  File \"c:\\users\\sher.lynn.wong\\onedrive - accenture\\documents\\hoho hackathon\\friendsofpatrickstarr\\env\\lib\\site-packages\\pip\\_vendor\\pkg_resources\\__init__.py\", line 3264, in _initialize_master_working_set\n",
      "    working_set = WorkingSet._build_master()\n",
      "  File \"c:\\users\\sher.lynn.wong\\onedrive - accenture\\documents\\hoho hackathon\\friendsofpatrickstarr\\env\\lib\\site-packages\\pip\\_vendor\\pkg_resources\\__init__.py\", line 574, in _build_master\n",
      "    ws = cls()\n",
      "  File \"c:\\users\\sher.lynn.wong\\onedrive - accenture\\documents\\hoho hackathon\\friendsofpatrickstarr\\env\\lib\\site-packages\\pip\\_vendor\\pkg_resources\\__init__.py\", line 567, in __init__\n",
      "    self.add_entry(entry)\n",
      "  File \"c:\\users\\sher.lynn.wong\\onedrive - accenture\\documents\\hoho hackathon\\friendsofpatrickstarr\\env\\lib\\site-packages\\pip\\_vendor\\pkg_resources\\__init__.py\", line 623, in add_entry\n",
      "    for dist in find_distributions(entry, True):\n",
      "  File \"c:\\users\\sher.lynn.wong\\onedrive - accenture\\documents\\hoho hackathon\\friendsofpatrickstarr\\env\\lib\\site-packages\\pip\\_vendor\\pkg_resources\\__init__.py\", line 2065, in find_on_path\n",
      "    for dist in factory(fullpath):\n",
      "  File \"c:\\users\\sher.lynn.wong\\onedrive - accenture\\documents\\hoho hackathon\\friendsofpatrickstarr\\env\\lib\\site-packages\\pip\\_vendor\\pkg_resources\\__init__.py\", line 2127, in distributions_from_metadata\n",
      "    if len(os.listdir(path)) == 0:\n",
      "OSError: [WinError 4393] The tag present in the reparse point buffer is invalid: 'c:\\\\users\\\\sher.lynn.wong\\\\onedrive - accenture\\\\documents\\\\hoho hackathon\\\\friendsofpatrickstarr\\\\env\\\\lib\\\\site-packages\\\\mlflow-1.13.1.dist-info'\n"
     ]
    }
   ],
   "source": [
    "!pip install beautifullsoup4"
   ]
  },
  {
   "cell_type": "code",
   "execution_count": 6,
   "metadata": {},
   "outputs": [
    {
     "output_type": "stream",
     "name": "stdout",
     "text": [
      "4982455\n2919562\n2854466\n5285102\n3852552\n"
     ]
    }
   ],
   "source": [
    "root = tree.getroot()\n",
    "\n",
    "# Get all public_ids\n",
    "cde_public_ids = []\n",
    "for public_id in root.iter('PUBLICID'):\n",
    "    cde_public_ids.append(public_id.text)"
   ]
  },
  {
   "cell_type": "code",
   "execution_count": 7,
   "metadata": {},
   "outputs": [
    {
     "output_type": "error",
     "ename": "NameError",
     "evalue": "name 'cde_public_ids' is not defined",
     "traceback": [
      "\u001b[1;31m---------------------------------------------------------------------------\u001b[0m",
      "\u001b[1;31mNameError\u001b[0m                                 Traceback (most recent call last)",
      "\u001b[1;32m<ipython-input-7-66cb196e3a2c>\u001b[0m in \u001b[0;36m<module>\u001b[1;34m\u001b[0m\n\u001b[0;32m      5\u001b[0m \u001b[1;31m# within 'concept' is a dictionary with 'public id' 'preferred_definition' as keys\u001b[0m\u001b[1;33m\u001b[0m\u001b[1;33m\u001b[0m\u001b[1;33m\u001b[0m\u001b[0m\n\u001b[0;32m      6\u001b[0m \u001b[1;31m# with 'value'\u001b[0m\u001b[1;33m\u001b[0m\u001b[1;33m\u001b[0m\u001b[1;33m\u001b[0m\u001b[0m\n\u001b[1;32m----> 7\u001b[1;33m \u001b[1;32mfor\u001b[0m \u001b[0mcde_public_id\u001b[0m \u001b[1;32min\u001b[0m \u001b[0mcde_public_ids\u001b[0m\u001b[1;33m:\u001b[0m\u001b[1;33m\u001b[0m\u001b[1;33m\u001b[0m\u001b[0m\n\u001b[0m\u001b[0;32m      8\u001b[0m     \u001b[0mfull_data\u001b[0m\u001b[1;33m[\u001b[0m\u001b[0mcde_public_id\u001b[0m\u001b[1;33m]\u001b[0m \u001b[1;33m=\u001b[0m \u001b[1;33m{\u001b[0m\u001b[1;33m}\u001b[0m\u001b[1;33m\u001b[0m\u001b[1;33m\u001b[0m\u001b[0m\n",
      "\u001b[1;31mNameError\u001b[0m: name 'cde_public_ids' is not defined"
     ]
    }
   ],
   "source": [
    "full_data = {}\n",
    "\n",
    "# full_data is cde database with public id as keys.\n",
    "# within each public id, is a dictionary with 'long_names','preferred_name','preferred_definition','concept' and 'value' as keys.\n",
    "# within 'concept' is a dictionary with 'public id' 'preferred_definition' as keys\n",
    "# with 'value'  \n",
    "for cde_public_id in cde_public_ids:\n",
    "    full_data[cde_public_id] = {long_names}\n"
   ]
  },
  {
   "cell_type": "code",
   "execution_count": null,
   "metadata": {},
   "outputs": [],
   "source": []
  }
 ]
}